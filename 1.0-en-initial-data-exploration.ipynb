{
 "cells": [
  {
   "cell_type": "markdown",
   "metadata": {},
   "source": [
    "Первоначальный код от Саши Зырянова. Приведен в порядок, обеспечена линейность выполнения.\n",
    "\n",
    "Содержание: удалена большая часть признаков, категориальные пропущены через one-hot encoder, созданы признаки count, добавлено сравнение job1Position с некоторыми ключевыми словами с помощью w2v, признак profession приведен к менее разрозненному виду и отфильтрован по признаку count > 50.\n",
    "\n",
    "На полученных признаках произведено моделирование и посчитано MAE и MAE без 10% худших предскзаний:\n",
    "  для разных моделей: RandomForest, LinearRegression и Lasso\n",
    "  для кандидатской и ассессорской целевых переменных"
   ]
  },
  {
   "cell_type": "code",
   "execution_count": 1,
   "metadata": {
    "collapsed": true
   },
   "outputs": [],
   "source": [
    "from string import punctuation\n",
    "\n",
    "import pandas as pd\n",
    "\n",
    "import numpy as np\n",
    "\n",
    "from sklearn.preprocessing import OneHotEncoder\n",
    "\n",
    "from sklearn.ensemble import RandomForestRegressor\n",
    "from sklearn.dummy import DummyRegressor\n",
    "from sklearn.linear_model import LinearRegression\n",
    "from sklearn.linear_model import Lasso\n",
    "\n",
    "from sklearn.model_selection import cross_val_score\n",
    "from sklearn.model_selection import KFold\n",
    "\n",
    "from sklearn.metrics import mean_absolute_error\n",
    "\n",
    "from scipy.spatial.distance import cosine\n",
    "\n",
    "from gensim.models import KeyedVectors\n",
    "\n",
    "import pymorphy2\n",
    "\n",
    "%matplotlib inline"
   ]
  },
  {
   "cell_type": "code",
   "execution_count": 2,
   "metadata": {
    "collapsed": true
   },
   "outputs": [],
   "source": [
    "def count_ecoder(feature):\n",
    "    counts = feature.value_counts()\n",
    "    \n",
    "    return feature.map(counts)"
   ]
  },
  {
   "cell_type": "code",
   "execution_count": 12,
   "metadata": {
    "collapsed": true
   },
   "outputs": [],
   "source": [
    "assessor_data = pd.read_csv('../data/raw/assessor_train.csv', index_col='Unnamed: 0')"
   ]
  },
  {
   "cell_type": "code",
   "execution_count": 4,
   "metadata": {},
   "outputs": [
    {
     "name": "stdout",
     "output_type": "stream",
     "text": [
      "<class 'pandas.core.frame.DataFrame'>\n",
      "Int64Index: 10124 entries, 0 to 10123\n",
      "Data columns (total 58 columns):\n",
      "idProfessionTree                10123 non-null float64\n",
      "rating                          10124 non-null int64\n",
      "payment                         10124 non-null int64\n",
      "town                            10124 non-null int64\n",
      "region                          10124 non-null int64\n",
      "citizenship                     4762 non-null float64\n",
      "typeOfWork                      10124 non-null int64\n",
      "placeOfWork                     10124 non-null int64\n",
      "age                             10124 non-null int64\n",
      "educationLevel                  10124 non-null int64\n",
      "computerSkillsLevel             10124 non-null int64\n",
      "readyToRelocate                 10124 non-null int64\n",
      "readyToBusinessTrips            10124 non-null int64\n",
      "keySkills                       7994 non-null object\n",
      "publishedAt                     10124 non-null int64\n",
      "profession                      10124 non-null object\n",
      "experienceMonthTotal            10124 non-null int64\n",
      "gender                          10124 non-null object\n",
      "married                         5522 non-null object\n",
      "hasKids                         5447 non-null object\n",
      "driverLicenseA                  10124 non-null int64\n",
      "driverLicenseB                  10124 non-null int64\n",
      "driverLicenseC                  10124 non-null int64\n",
      "driverLicenseD                  10124 non-null int64\n",
      "driverLicenseE                  10124 non-null int64\n",
      "catalog1                        10124 non-null int64\n",
      "catalog2                        10124 non-null int64\n",
      "catalog3                        10124 non-null int64\n",
      "catalog4                        10124 non-null int64\n",
      "catalog5                        10124 non-null int64\n",
      "knowsThatManyLanguages          10124 non-null int64\n",
      "bestLanguageId                  5261 non-null float64\n",
      "bestLanguageLevel               5261 non-null float64\n",
      "currentlyEmployed               10124 non-null object\n",
      "unemployedNMonths               10124 non-null int64\n",
      "jobDurationMedian               10124 non-null float64\n",
      "job1Position                    9550 non-null object\n",
      "job1CompanyName                 9349 non-null object\n",
      "job1Description                 8246 non-null object\n",
      "job1DurationMonths              9550 non-null float64\n",
      "job2Position                    7879 non-null object\n",
      "job2CompanyName                 7808 non-null object\n",
      "job2Description                 7203 non-null object\n",
      "job2DurationMonths              7879 non-null float64\n",
      "extraEduCount                   10124 non-null int64\n",
      "eduSpecializedCount             10124 non-null int64\n",
      "eduHigherCount                  10124 non-null int64\n",
      "eduPhDCount                     10124 non-null int64\n",
      "eduDoctorateCount               10124 non-null int64\n",
      "eduHigher1Institute             6052 non-null object\n",
      "eduHigher1Faculty               5755 non-null object\n",
      "eduHigher1Speciality            5964 non-null object\n",
      "eduHigher1YearsSinceFinished    6091 non-null float64\n",
      "eduHigher2Institute             587 non-null object\n",
      "eduHigher2Faculty               567 non-null object\n",
      "eduHigher2Speciality            568 non-null object\n",
      "eduHigher2YearsSinceFinished    595 non-null float64\n",
      "asessor                         100 non-null float64\n",
      "dtypes: float64(10), int64(30), object(18)\n",
      "memory usage: 4.6+ MB\n"
     ]
    }
   ],
   "source": [
    "assessor_data.info()"
   ]
  },
  {
   "cell_type": "code",
   "execution_count": 5,
   "metadata": {
    "collapsed": true
   },
   "outputs": [],
   "source": [
    "assessor_data = assessor_data.drop(['region',\n",
    "                                    'idProfessionTree',\n",
    "                                    'driverLicenseA',\n",
    "                                    'driverLicenseB',\n",
    "                                    'driverLicenseC',\n",
    "                                    'driverLicenseD',\n",
    "                                    'driverLicenseE',\n",
    "                                    'catalog1',\n",
    "                                    'catalog2',\n",
    "                                    'catalog3',\n",
    "                                    'catalog4',\n",
    "                                    'catalog5',\n",
    "                                    'eduHigher1Institute',\n",
    "                                    'eduHigher1Faculty',\n",
    "                                    'eduHigher1Speciality',\n",
    "                                    'eduHigher2Institute',\n",
    "                                    'eduHigher2Faculty',\n",
    "                                    'eduHigher2Speciality',\n",
    "                                    'job1CompanyName',\n",
    "                                    'job1Description',\n",
    "                                    'job2Position',\n",
    "                                    'job2CompanyName',\n",
    "                                    'job2Description',\n",
    "                                    'eduDoctorateCount',\n",
    "                                    'eduPhDCount',\n",
    "                                    'keySkills',\n",
    "                                    'publishedAt'], axis=1)"
   ]
  },
  {
   "cell_type": "code",
   "execution_count": 6,
   "metadata": {
    "collapsed": true
   },
   "outputs": [],
   "source": [
    "assessor_data['married'] = assessor_data['married'].factorize()[0] + 1\n",
    "assessor_data['hasKids'] = assessor_data['hasKids'].factorize()[0] + 1\n",
    "assessor_data['gender'] = assessor_data['gender'].factorize()[0]\n",
    "assessor_data['currentlyEmployed'] = assessor_data['currentlyEmployed'].factorize()[0]"
   ]
  },
  {
   "cell_type": "code",
   "execution_count": 7,
   "metadata": {
    "collapsed": true
   },
   "outputs": [],
   "source": [
    "assessor_data['citizenship'] = assessor_data['citizenship'].notnull()\n",
    "assessor_data['typeOfWork'] = assessor_data['typeOfWork'] != 6"
   ]
  },
  {
   "cell_type": "code",
   "execution_count": 8,
   "metadata": {
    "collapsed": true
   },
   "outputs": [],
   "source": [
    "is_capital = (assessor_data['town'] == 4) | (assessor_data['town'] == 14)\n",
    "assessor_data = assessor_data[is_capital]\n",
    "assessor_data['town'], _ = assessor_data['town'].factorize()"
   ]
  },
  {
   "cell_type": "code",
   "execution_count": 9,
   "metadata": {
    "collapsed": true
   },
   "outputs": [],
   "source": [
    "assessor_data['age_count'] = count_ecoder(assessor_data['age'])\n",
    "assessor_data['educationLevel_count'] = count_ecoder(assessor_data['educationLevel'])\n",
    "assessor_data['computerSkillsLevel_count'] = count_ecoder(assessor_data['computerSkillsLevel'])\n",
    "assessor_data['bestLanguageId_count'] = count_ecoder(assessor_data['bestLanguageId'])\n",
    "assessor_data['bestLanguageLevel_count'] = count_ecoder(assessor_data['bestLanguageLevel'])\n",
    "\n",
    "assessor_data = assessor_data.drop('bestLanguageId', axis=1)"
   ]
  },
  {
   "cell_type": "code",
   "execution_count": 10,
   "metadata": {
    "collapsed": true
   },
   "outputs": [],
   "source": [
    "ohe_features = ['readyToBusinessTrips', 'married', 'hasKids']\n",
    "\n",
    "enc = OneHotEncoder()\n",
    "assessor_data_ohe = enc.fit_transform(assessor_data[ohe_features])\n",
    "assessor_data_ohe = assessor_data_ohe.toarray()\n",
    "assessor_data_ohe = pd.DataFrame(assessor_data_ohe, index=assessor_data.index)\n",
    "assessor_data_ohe.rename(columns={0:'readyToBusinessTrips0', 1:'readyToBusinessTrips1', 2:'readyToBusinessTrips2',\n",
    "                                  3:'married_nan', 4:'married_no', 5:'married_yes',\n",
    "                                  6:'hasKids_nan', 7:'hasKids_no', 8:'hasKids_yes'}, inplace=True)\n",
    "\n",
    "assessor_data = pd.concat([assessor_data, assessor_data_ohe], axis=1)\n",
    "assessor_data = assessor_data.drop(ohe_features, axis=1)"
   ]
  },
  {
   "cell_type": "code",
   "execution_count": 11,
   "metadata": {
    "collapsed": true
   },
   "outputs": [],
   "source": [
    "assessor_data['job1Position'] = assessor_data['job1Position'].fillna('менеджер по продажам')"
   ]
  },
  {
   "cell_type": "code",
   "execution_count": 12,
   "metadata": {
    "collapsed": true
   },
   "outputs": [],
   "source": [
    "assessor_data['job1Position'] = assessor_data['job1Position'].str.lower()"
   ]
  },
  {
   "cell_type": "code",
   "execution_count": 13,
   "metadata": {
    "collapsed": true
   },
   "outputs": [],
   "source": [
    "drop_punctuation_table = dict.fromkeys(map(ord, punctuation), ' ')\n",
    "\n",
    "assessor_data['job1Position'] = assessor_data['job1Position'].str.translate(drop_punctuation_table)"
   ]
  },
  {
   "cell_type": "code",
   "execution_count": 14,
   "metadata": {
    "collapsed": true
   },
   "outputs": [],
   "source": [
    "assessor_data['job1Position'] = assessor_data['job1Position'].str.split()"
   ]
  },
  {
   "cell_type": "code",
   "execution_count": 15,
   "metadata": {
    "collapsed": true
   },
   "outputs": [],
   "source": [
    "def prepare_job_poisition(words, morph):\n",
    "    out = []\n",
    "    for word in words:\n",
    "        parsed_word = morph.parse(word)[0]\n",
    "        \n",
    "        pos = parsed_word.tag.POS\n",
    "        if pos != 'NOUN':\n",
    "            continue\n",
    "            \n",
    "        normal_form = parsed_word.normal_form\n",
    "        \n",
    "        out.append(normal_form + '_' + pos)\n",
    "        \n",
    "    return out\n",
    "\n",
    "assessor_data['job1Position'] = assessor_data['job1Position'].apply(prepare_job_poisition, morph=pymorphy2.MorphAnalyzer())"
   ]
  },
  {
   "cell_type": "code",
   "execution_count": 16,
   "metadata": {
    "collapsed": true
   },
   "outputs": [],
   "source": [
    "w2v = KeyedVectors.load_word2vec_format('../models/ruwikiruscorpora_0_300_20.bin', binary=True)"
   ]
  },
  {
   "cell_type": "code",
   "execution_count": 17,
   "metadata": {
    "collapsed": true,
    "scrolled": true
   },
   "outputs": [],
   "source": [
    "def match_job_position(words, w2v, match_vector):\n",
    "    job_vector = None\n",
    "    for word in words:\n",
    "        try:\n",
    "            word_wector = w2v[word]\n",
    "        except KeyError:\n",
    "            continue\n",
    "            \n",
    "        if job_vector is None:\n",
    "            job_vector = word_wector\n",
    "        else:    \n",
    "            job_vector += word_wector\n",
    "            \n",
    "    if job_vector is None:\n",
    "        return None\n",
    "            \n",
    "    job_vector /= len(words)\n",
    "    \n",
    "    return cosine(job_vector, match_vector)\n",
    "\n",
    "manager_vector = w2v['менеджер_NOUN']\n",
    "chief_vector = w2v['руководитель_NOUN']\n",
    "sales_vector = w2v['продажа_NOUN']\n",
    "\n",
    "assessor_data['job1PositionMatchManager'] = assessor_data['job1Position'].apply(match_job_position,\n",
    "                                                                                w2v=w2v,\n",
    "                                                                                match_vector=manager_vector)\n",
    "\n",
    "assessor_data['job1PositionMatchChief'] = assessor_data['job1Position'].apply(match_job_position,\n",
    "                                                                              w2v=w2v,\n",
    "                                                                              match_vector=chief_vector)\n",
    "\n",
    "assessor_data['job1PositionMatchSales'] = assessor_data['job1Position'].apply(match_job_position,\n",
    "                                                                              w2v=w2v,\n",
    "                                                                              match_vector=sales_vector)"
   ]
  },
  {
   "cell_type": "code",
   "execution_count": 18,
   "metadata": {
    "collapsed": true,
    "scrolled": true
   },
   "outputs": [],
   "source": [
    "assessor_data = assessor_data.drop('job1Position', axis=1)"
   ]
  },
  {
   "cell_type": "code",
   "execution_count": 19,
   "metadata": {
    "collapsed": true
   },
   "outputs": [],
   "source": [
    "X = assessor_data.drop(['profession', 'payment', 'asessor'], axis=1)\n",
    "y = assessor_data['payment']\n",
    "\n",
    "X = X.fillna(-1)"
   ]
  },
  {
   "cell_type": "code",
   "execution_count": 20,
   "metadata": {
    "collapsed": true
   },
   "outputs": [],
   "source": [
    "cv = KFold(4, True, 42)"
   ]
  },
  {
   "cell_type": "code",
   "execution_count": 21,
   "metadata": {
    "scrolled": true
   },
   "outputs": [
    {
     "name": "stdout",
     "output_type": "stream",
     "text": [
      "-13922.2826022 131.90205079\n"
     ]
    }
   ],
   "source": [
    "#модель с отбрасыванием признака 'profession', целевая переменная payment\n",
    "\n",
    "rfr = RandomForestRegressor(n_estimators=100, n_jobs=7)\n",
    "\n",
    "scores = cross_val_score(rfr, X, y, cv=cv, scoring='neg_mean_absolute_error')\n",
    "\n",
    "print(scores.mean(), scores.std())"
   ]
  },
  {
   "cell_type": "code",
   "execution_count": 13,
   "metadata": {
    "collapsed": true
   },
   "outputs": [],
   "source": [
    "assessor_data['profession'] = assessor_data['profession'].str.lower()\n",
    "assessor_data['profession'] = assessor_data['profession'].str.replace('продаже', 'продажам')\n",
    "assessor_data['profession'] = assessor_data['profession'].str.replace('менеджера', 'менеджер')\n",
    "assessor_data['profession'] = assessor_data['profession'].str.replace(' / ', ',')\n",
    "\n",
    "is_equipment = assessor_data['profession'].str.find('оборудован') >= 0\n",
    "is_furniture = assessor_data['profession'].str.find('мебел') >= 0\n",
    "is_internet = assessor_data['profession'].str.find('интернет') >= 0\n",
    "is_services = assessor_data['profession'].str.find('услуг') >= 0\n",
    "is_client = assessor_data['profession'].str.find('клиент') >= 0\n",
    "\n",
    "assessor_data.loc[is_equipment, 'profession'] = 'менеджер по продажам оборудования'\n",
    "assessor_data.loc[is_furniture, 'profession'] = 'менеджер по продажам мебели'\n",
    "assessor_data.loc[is_internet, 'profession'] = 'менеджер по продажам интернет-магазина'\n",
    "assessor_data.loc[is_services, 'profession'] = 'менеджер по продажам услуг'\n",
    "assessor_data.loc[is_client, 'profession'] = 'менеджер по продажам и работе с клиентами'\n",
    "\n",
    "splitted_professions = assessor_data['profession'].str.split(',')\n",
    "assessor_data['profession'] = splitted_professions.apply(lambda x: x[0].strip())\n",
    "\n",
    "mapped_professions = assessor_data['profession'].map({    \n",
    "    'менеджер по продажам новостроек': 'менеджер по продажам недвижимости',\n",
    "    'менеджер по продажам загородной недвижимости': 'менеджер по продажам недвижимости',\n",
    "    'менеджер по продажам первичной недвижимости': 'менеджер по продажам недвижимости',\n",
    "    'менеджер по продажам строящейся недвижимости': 'менеджер по продажам недвижимости',\n",
    "    'менеджер по продажам недвижимости с обучением': 'менеджер по продажам недвижимости',\n",
    "    'менеджер по продажам и аренде недвижимости': 'менеджер по продажам недвижимости',\n",
    "    'менеджер по продажам зарубежной недвижимости': 'менеджер по продажам недвижимости',\n",
    "    \n",
    "    'менеджер по продажам запчастей': 'менеджер по продажам автозапчастей',\n",
    "    'менеджер по продажам запасных частей': 'менеджер по продажам автозапчастей',\n",
    "    \n",
    "    'менеджер по продажам автомобилей с пробегом': 'менеджер по продажам автомобилей',\n",
    "    'менеджер по продажам автомобилей (официальный дилер)': 'менеджер по продажам автомобилей',\n",
    "    'менеджер по продажам новых автомобилей': 'менеджер по продажам автомобилей',\n",
    "    \n",
    "    'менеджер по продажам в отдел кредитования': 'менеджер по продажам банковских продуктов и услуг',\n",
    "    'менеджер по продажам в банк': 'менеджер по продажам банковских продуктов и услуг',\n",
    "    'менеджер по продажам банковских услуг': 'менеджер по продажам банковских продуктов и услуг',\n",
    "    'менеджер по продажам банковских продуктов': 'менеджер по продажам банковских продуктов и услуг',\n",
    "    \n",
    "    'менеджер по продажам керамической плитки': 'менеджер по продажам строительных материалов',\n",
    "    'менеджер по продажам напольных покрытий': 'менеджер по продажам строительных материалов',\n",
    "    'менеджер по продажам стройматериалов': 'менеджер по продажам строительных материалов',\n",
    "    'менеджер по продажам кровельных материалов': 'менеджер по продажам строительных материалов',\n",
    "    'менеджер по продажам бетона': 'менеджер по продажам строительных материалов',\n",
    "})\n",
    "\n",
    "assessor_data.loc[mapped_professions.notnull(), 'profession'] = mapped_professions[mapped_professions.notnull()]\n",
    "\n",
    "profession_counts = assessor_data['profession'].value_counts()\n",
    "good_professions = profession_counts.index[profession_counts > 50]\n",
    "is_good_profession = assessor_data['profession'].isin(good_professions)\n",
    "assessor_data = assessor_data[is_good_profession]\n",
    "\n",
    "assessor_data['profession_counts'] = count_ecoder(assessor_data['profession'])"
   ]
  },
  {
   "cell_type": "code",
   "execution_count": 22,
   "metadata": {
    "collapsed": true
   },
   "outputs": [],
   "source": [
    "enc = OneHotEncoder()\n",
    "assessor_data['profession_fact'], _ = assessor_data['profession'].factorize()\n",
    "profession_ohe = enc.fit_transform(assessor_data['profession_fact'].values.reshape(-1, 1))\n",
    "profession_ohe = profession_ohe.toarray()\n",
    "profession_ohe = pd.DataFrame(profession_ohe, index = assessor_data.index)\n",
    "\n",
    "profession_names = []\n",
    "\n",
    "for i in range(profession_ohe.shape[1]):\n",
    "    profession_names.append(assessor_data.loc[(profession_ohe[i] == 1), 'profession'].iloc[0])\n",
    "    \n",
    "profession_ohe.rename(columns={0:'prof_0', 1:'prof_1', 2:'prof_2', 3:'prof_3', 4:'prof_4', 5:'prof_5', 6:'prof_6', 7:'prof_7', 8:'prof_8', 9:'prof_9'}, inplace=True)\n",
    "assessor_data = pd.concat([assessor_data, profession_ohe], axis=1)\n",
    "assessor_data = assessor_data.drop(['profession', 'profession_fact'], axis=1)"
   ]
  },
  {
   "cell_type": "code",
   "execution_count": 24,
   "metadata": {},
   "outputs": [
    {
     "data": {
      "text/plain": [
       "['менеджер по продажам строительных материалов',\n",
       " 'менеджер по продажам',\n",
       " 'менеджер по продажам услуг',\n",
       " 'менеджер по продажам и работе с клиентами',\n",
       " 'менеджер по продажам автозапчастей',\n",
       " 'менеджер по продажам оборудования',\n",
       " 'менеджер по продажам интернет-магазина',\n",
       " 'менеджер по продажам автомобилей',\n",
       " 'менеджер по продажам недвижимости',\n",
       " 'менеджер по продажам мебели']"
      ]
     },
     "execution_count": 24,
     "metadata": {},
     "output_type": "execute_result"
    }
   ],
   "source": [
    "profession_names"
   ]
  },
  {
   "cell_type": "code",
   "execution_count": 24,
   "metadata": {
    "collapsed": true
   },
   "outputs": [],
   "source": [
    "assessor_data.to_csv('../data/processed/processed_train.csv')"
   ]
  },
  {
   "cell_type": "code",
   "execution_count": 207,
   "metadata": {
    "collapsed": true
   },
   "outputs": [],
   "source": [
    "def mae(est, X, y):\n",
    "    y_pred = est.predict(X)\n",
    "    err = np.abs(y - y_pred) / y\n",
    "    \n",
    "    return err.mean()"
   ]
  },
  {
   "cell_type": "code",
   "execution_count": 208,
   "metadata": {
    "collapsed": true
   },
   "outputs": [],
   "source": [
    "def mae_throw_worst(est, X, y):\n",
    "    y_pred = est.predict(X)\n",
    "    err = np.sort(np.abs(y - y_pred))\n",
    "    \n",
    "    return -err[:-int(err.shape[0]*0.1)].mean()"
   ]
  },
  {
   "cell_type": "code",
   "execution_count": 209,
   "metadata": {
    "collapsed": true
   },
   "outputs": [],
   "source": [
    "index = ['Candidate_DummyRegr', 'Candidate_RandForRegr', 'Candidate_LinRegr', 'Candidate_Lasso',\n",
    "        'Assessor_DummyRegr', 'Assessor_RandForRegr', 'Assessor_LinRegr', 'Assessor_Lasso']\n",
    "columns = ['MAE', 'MAE_throw_worst']\n",
    "all_scores = pd.DataFrame(index=index, columns=columns)"
   ]
  },
  {
   "cell_type": "markdown",
   "metadata": {},
   "source": [
    "# Разные модели для кандидатской целевой переменной"
   ]
  },
  {
   "cell_type": "code",
   "execution_count": null,
   "metadata": {
    "collapsed": true
   },
   "outputs": [],
   "source": [
    "cv = KFold(4, True, 42)"
   ]
  },
  {
   "cell_type": "code",
   "execution_count": null,
   "metadata": {
    "collapsed": true
   },
   "outputs": [],
   "source": [
    "X = assessor_data.drop(['payment', 'asessor'], axis=1)\n",
    "y = assessor_data['payment']\n",
    "\n",
    "X = X.fillna(-1)"
   ]
  },
  {
   "cell_type": "code",
   "execution_count": 214,
   "metadata": {},
   "outputs": [
    {
     "name": "stdout",
     "output_type": "stream",
     "text": [
      "-15010.5228948 139.414619445\n"
     ]
    }
   ],
   "source": [
    "#модель с учетом признака 'profession', целевая переменная payment\n",
    "\n",
    "dre = DummyRegressor()\n",
    "\n",
    "scores = cross_val_score(dre, X.values, y.values, cv=cv, scoring='neg_mean_absolute_error')\n",
    "\n",
    "all_scores.loc['Candidate_DummyRegr', 'MAE'] = scores.mean()\n",
    "\n",
    "print(scores.mean(), scores.std())"
   ]
  },
  {
   "cell_type": "code",
   "execution_count": 215,
   "metadata": {},
   "outputs": [
    {
     "name": "stdout",
     "output_type": "stream",
     "text": [
      "-11657.9283164 146.353660707\n"
     ]
    }
   ],
   "source": [
    "scores = cross_val_score(dre, X.values, y.values, cv=cv, scoring=mae_throw_worst)\n",
    "\n",
    "all_scores.loc['Candidate_DummyRegr', 'MAE_throw_worst'] = scores.mean()\n",
    "\n",
    "print(scores.mean(), scores.std())"
   ]
  },
  {
   "cell_type": "code",
   "execution_count": 216,
   "metadata": {},
   "outputs": [
    {
     "name": "stdout",
     "output_type": "stream",
     "text": [
      "[CV]  ................................................................\n",
      "[CV] ............................ , score=-13467.195798, total=  34.9s\n",
      "[CV]  ................................................................\n"
     ]
    },
    {
     "name": "stderr",
     "output_type": "stream",
     "text": [
      "[Parallel(n_jobs=1)]: Done   1 out of   1 | elapsed:   34.9s remaining:    0.0s\n"
     ]
    },
    {
     "name": "stdout",
     "output_type": "stream",
     "text": [
      "[CV] ............................ , score=-13534.959613, total=  35.0s\n",
      "[CV]  ................................................................\n"
     ]
    },
    {
     "name": "stderr",
     "output_type": "stream",
     "text": [
      "[Parallel(n_jobs=1)]: Done   2 out of   2 | elapsed:  1.2min remaining:    0.0s\n"
     ]
    },
    {
     "name": "stdout",
     "output_type": "stream",
     "text": [
      "[CV] ............................ , score=-13118.783796, total=  35.2s\n",
      "[CV]  ................................................................\n",
      "[CV] ............................ , score=-13382.292183, total=  37.1s\n",
      "-13375.8078474 157.943385094\n"
     ]
    },
    {
     "name": "stderr",
     "output_type": "stream",
     "text": [
      "[Parallel(n_jobs=1)]: Done   4 out of   4 | elapsed:  2.4min finished\n"
     ]
    }
   ],
   "source": [
    "rfr = RandomForestRegressor(n_estimators=1000, n_jobs=7)\n",
    "\n",
    "scores = cross_val_score(rfr, X.values, y.values, cv=cv, scoring='neg_mean_absolute_error', verbose=3)\n",
    "\n",
    "all_scores.loc['Candidate_RandForRegr', 'MAE'] = scores.mean()\n",
    "\n",
    "print(scores.mean(), scores.std())"
   ]
  },
  {
   "cell_type": "code",
   "execution_count": 217,
   "metadata": {},
   "outputs": [
    {
     "name": "stdout",
     "output_type": "stream",
     "text": [
      "-10242.7083884 198.588004343\n"
     ]
    }
   ],
   "source": [
    "scores = cross_val_score(rfr, X.values, y.values, cv=cv, scoring=mae_throw_worst)\n",
    "\n",
    "all_scores.loc['Candidate_RandForRegr', 'MAE_throw_worst'] = scores.mean()\n",
    "\n",
    "print(scores.mean(), scores.std())"
   ]
  },
  {
   "cell_type": "code",
   "execution_count": 218,
   "metadata": {},
   "outputs": [
    {
     "name": "stdout",
     "output_type": "stream",
     "text": [
      "[CV]  ................................................................\n",
      "[CV] ............................ , score=-13339.023120, total=   0.0s\n",
      "[CV]  ................................................................\n",
      "[CV] ............................ , score=-13466.741522, total=   0.0s\n",
      "[CV]  ................................................................\n",
      "[CV] ............................ , score=-12744.348952, total=   0.0s\n",
      "[CV]  ................................................................\n",
      "[CV] ............................ , score=-13258.691950, total=   0.0s\n",
      "-13202.2013858 274.554960407\n"
     ]
    },
    {
     "name": "stderr",
     "output_type": "stream",
     "text": [
      "[Parallel(n_jobs=1)]: Done   1 out of   1 | elapsed:    0.0s remaining:    0.0s\n",
      "[Parallel(n_jobs=1)]: Done   2 out of   2 | elapsed:    0.0s remaining:    0.0s\n",
      "[Parallel(n_jobs=1)]: Done   4 out of   4 | elapsed:    0.1s finished\n"
     ]
    }
   ],
   "source": [
    "lrm = LinearRegression()\n",
    "\n",
    "scores = cross_val_score(lrm, X, y, cv=cv, scoring='neg_mean_absolute_error', verbose=3)\n",
    "\n",
    "all_scores.loc['Candidate_LinRegr', 'MAE'] = scores.mean()\n",
    "\n",
    "print(scores.mean(), scores.std())"
   ]
  },
  {
   "cell_type": "code",
   "execution_count": 219,
   "metadata": {},
   "outputs": [
    {
     "name": "stdout",
     "output_type": "stream",
     "text": [
      "-10050.1119336 291.526570803\n"
     ]
    }
   ],
   "source": [
    "scores = cross_val_score(lrm, X, y, cv=cv, scoring=mae_throw_worst)\n",
    "\n",
    "all_scores.loc['Candidate_LinRegr', 'MAE_throw_worst'] = scores.mean()\n",
    "\n",
    "print(scores.mean(), scores.std())"
   ]
  },
  {
   "cell_type": "code",
   "execution_count": 220,
   "metadata": {},
   "outputs": [
    {
     "name": "stdout",
     "output_type": "stream",
     "text": [
      "[CV]  ................................................................\n",
      "[CV] ............................ , score=-13337.802590, total=   0.1s\n",
      "[CV]  ................................................................\n"
     ]
    },
    {
     "name": "stderr",
     "output_type": "stream",
     "text": [
      "[Parallel(n_jobs=1)]: Done   1 out of   1 | elapsed:    0.1s remaining:    0.0s\n"
     ]
    },
    {
     "name": "stdout",
     "output_type": "stream",
     "text": [
      "[CV] ............................ , score=-13465.610331, total=   0.1s\n",
      "[CV]  ................................................................\n"
     ]
    },
    {
     "name": "stderr",
     "output_type": "stream",
     "text": [
      "[Parallel(n_jobs=1)]: Done   2 out of   2 | elapsed:    0.3s remaining:    0.0s\n"
     ]
    },
    {
     "name": "stdout",
     "output_type": "stream",
     "text": [
      "[CV] ............................ , score=-12743.948619, total=   0.1s\n",
      "[CV]  ................................................................\n",
      "[CV] ............................ , score=-13257.417872, total=   0.2s\n",
      "-13201.1948526 274.23182034\n"
     ]
    },
    {
     "name": "stderr",
     "output_type": "stream",
     "text": [
      "[Parallel(n_jobs=1)]: Done   4 out of   4 | elapsed:    0.8s finished\n"
     ]
    }
   ],
   "source": [
    "lasso = Lasso()\n",
    "\n",
    "scores = cross_val_score(lasso, X, y, cv=cv, scoring='neg_mean_absolute_error', verbose=3)\n",
    "\n",
    "all_scores.loc['Candidate_Lasso', 'MAE'] = scores.mean()\n",
    "\n",
    "print(scores.mean(), scores.std())"
   ]
  },
  {
   "cell_type": "code",
   "execution_count": 221,
   "metadata": {},
   "outputs": [
    {
     "name": "stdout",
     "output_type": "stream",
     "text": [
      "-10049.089017 291.388479227\n"
     ]
    }
   ],
   "source": [
    "scores = cross_val_score(lasso, X, y, cv=cv, scoring=mae_throw_worst)\n",
    "\n",
    "all_scores.loc['Candidate_Lasso', 'MAE_throw_worst'] = scores.mean()\n",
    "\n",
    "print(scores.mean(), scores.std())"
   ]
  },
  {
   "cell_type": "markdown",
   "metadata": {},
   "source": [
    "# Разные модели для ассессорской целевой переменной"
   ]
  },
  {
   "cell_type": "code",
   "execution_count": 222,
   "metadata": {
    "collapsed": true
   },
   "outputs": [],
   "source": [
    "X_without_assesor = X[assessor_data['asessor'].isnull()]\n",
    "y_without_assesor = y[assessor_data['asessor'].isnull()] #целевая переменная payment\n",
    "\n",
    "X_with_assesor = X[assessor_data['asessor'].notnull()]\n",
    "y_with_assesor = y[assessor_data['asessor'].notnull()] #целевая переменная payment\n",
    "\n",
    "y_test = assessor_data.loc[assessor_data['asessor'].notnull(), 'asessor'] #целевая переменная asessor"
   ]
  },
  {
   "cell_type": "code",
   "execution_count": 223,
   "metadata": {},
   "outputs": [
    {
     "name": "stdout",
     "output_type": "stream",
     "text": [
      "[CV]  ................................................................\n",
      "[CV] ............................. , score=-6818.500000, total=   1.3s\n",
      "[CV]  ................................................................\n"
     ]
    },
    {
     "name": "stderr",
     "output_type": "stream",
     "text": [
      "[Parallel(n_jobs=1)]: Done   1 out of   1 | elapsed:    1.3s remaining:    0.0s\n"
     ]
    },
    {
     "name": "stdout",
     "output_type": "stream",
     "text": [
      "[CV] ............................ , score=-12034.750000, total=   1.1s\n",
      "[CV]  ................................................................\n"
     ]
    },
    {
     "name": "stderr",
     "output_type": "stream",
     "text": [
      "[Parallel(n_jobs=1)]: Done   2 out of   2 | elapsed:    2.5s remaining:    0.0s\n"
     ]
    },
    {
     "name": "stdout",
     "output_type": "stream",
     "text": [
      "[CV] ............................. , score=-8603.500000, total=   1.2s\n",
      "[CV]  ................................................................\n",
      "[CV] ............................ , score=-10635.000000, total=   1.1s\n",
      "-9522.9375 1981.49139204\n"
     ]
    },
    {
     "name": "stderr",
     "output_type": "stream",
     "text": [
      "[Parallel(n_jobs=1)]: Done   4 out of   4 | elapsed:    5.0s finished\n"
     ]
    }
   ],
   "source": [
    "#модель обучается на 100 объектах, целевая переменная asessor\n",
    "\n",
    "rfr = RandomForestRegressor(n_estimators=1000, n_jobs=7)\n",
    "\n",
    "scores = cross_val_score(rfr, X_with_assesor, y_test, cv=cv, scoring='neg_mean_absolute_error', verbose=3)\n",
    "\n",
    "all_scores.loc['Assessor_RandForRegr', 'MAE'] = scores.mean()\n",
    "\n",
    "print(scores.mean(), scores.std())"
   ]
  },
  {
   "cell_type": "code",
   "execution_count": 224,
   "metadata": {
    "collapsed": true
   },
   "outputs": [],
   "source": [
    "scores = cross_val_score(rfr, X_with_assesor, y_test, cv=cv, scoring=mae_throw_worst)\n",
    "\n",
    "all_scores.loc['Assessor_RandForRegr', 'MAE_throw_worst'] = scores.mean()\n",
    "\n",
    "print(scores.mean(), scores.std())"
   ]
  },
  {
   "cell_type": "code",
   "execution_count": 225,
   "metadata": {},
   "outputs": [
    {
     "name": "stdout",
     "output_type": "stream",
     "text": [
      "-11564.5833333 3208.11890517\n"
     ]
    }
   ],
   "source": [
    "dre = DummyRegressor()\n",
    "\n",
    "scores = cross_val_score(dre, X_with_assesor, y_test, cv=cv, scoring='neg_mean_absolute_error')\n",
    "\n",
    "all_scores.loc['Assessor_DummyRegr', 'MAE'] = scores.mean()\n",
    "\n",
    "print(scores.mean(), scores.std())"
   ]
  },
  {
   "cell_type": "code",
   "execution_count": 226,
   "metadata": {},
   "outputs": [
    {
     "name": "stdout",
     "output_type": "stream",
     "text": [
      "-9136.57407407 2071.5859642\n"
     ]
    }
   ],
   "source": [
    "scores = cross_val_score(dre, X_with_assesor, y_test, cv=cv, scoring=mae_throw_worst)\n",
    "\n",
    "all_scores.loc['Assessor_DummyRegr', 'MAE_throw_worst'] = scores.mean()\n",
    "\n",
    "print(scores.mean(), scores.std())"
   ]
  },
  {
   "cell_type": "code",
   "execution_count": 227,
   "metadata": {},
   "outputs": [
    {
     "name": "stdout",
     "output_type": "stream",
     "text": [
      "-22444.8176661 2414.53048838\n"
     ]
    }
   ],
   "source": [
    "scores = cross_val_score(lrm, X_with_assesor, y_test, cv=cv, scoring='neg_mean_absolute_error')\n",
    "\n",
    "all_scores.loc['Assessor_LinRegr', 'MAE'] = scores.mean()\n",
    "\n",
    "print(scores.mean(), scores.std())"
   ]
  },
  {
   "cell_type": "code",
   "execution_count": 228,
   "metadata": {},
   "outputs": [
    {
     "name": "stdout",
     "output_type": "stream",
     "text": [
      "-17659.9086476 2423.42000358\n"
     ]
    }
   ],
   "source": [
    "scores = cross_val_score(lrm, X_with_assesor, y_test, cv=cv, scoring=mae_throw_worst)\n",
    "\n",
    "all_scores.loc['Assessor_LinRegr', 'MAE_throw_worst'] = scores.mean()\n",
    "\n",
    "print(scores.mean(), scores.std())"
   ]
  },
  {
   "cell_type": "code",
   "execution_count": 229,
   "metadata": {},
   "outputs": [
    {
     "name": "stdout",
     "output_type": "stream",
     "text": [
      "-14388.6143567 3508.71474375\n"
     ]
    }
   ],
   "source": [
    "lasso = Lasso(tol=1)\n",
    "\n",
    "scores = cross_val_score(lasso, X_with_assesor, y_test, cv=cv, scoring='neg_mean_absolute_error')\n",
    "\n",
    "all_scores.loc['Assessor_Lasso', 'MAE'] = scores.mean()\n",
    "\n",
    "print(scores.mean(), scores.std())"
   ]
  },
  {
   "cell_type": "code",
   "execution_count": 230,
   "metadata": {},
   "outputs": [
    {
     "name": "stdout",
     "output_type": "stream",
     "text": [
      "-11938.2811568 3574.14380093\n"
     ]
    }
   ],
   "source": [
    "scores = cross_val_score(lasso, X_with_assesor, y_test, cv=cv, scoring=mae_throw_worst)\n",
    "\n",
    "all_scores.loc['Assessor_Lasso', 'MAE_throw_worst'] = scores.mean()\n",
    "\n",
    "print(scores.mean(), scores.std())"
   ]
  },
  {
   "cell_type": "code",
   "execution_count": 231,
   "metadata": {},
   "outputs": [
    {
     "data": {
      "text/html": [
       "<div>\n",
       "<style>\n",
       "    .dataframe thead tr:only-child th {\n",
       "        text-align: right;\n",
       "    }\n",
       "\n",
       "    .dataframe thead th {\n",
       "        text-align: left;\n",
       "    }\n",
       "\n",
       "    .dataframe tbody tr th {\n",
       "        vertical-align: top;\n",
       "    }\n",
       "</style>\n",
       "<table border=\"1\" class=\"dataframe\">\n",
       "  <thead>\n",
       "    <tr style=\"text-align: right;\">\n",
       "      <th></th>\n",
       "      <th>MAE</th>\n",
       "      <th>MAE_throw_worst</th>\n",
       "    </tr>\n",
       "  </thead>\n",
       "  <tbody>\n",
       "    <tr>\n",
       "      <th>Candidate_DummyRegr</th>\n",
       "      <td>-15010.5</td>\n",
       "      <td>-11657.9</td>\n",
       "    </tr>\n",
       "    <tr>\n",
       "      <th>Candidate_RandForRegr</th>\n",
       "      <td>-13375.8</td>\n",
       "      <td>-10242.7</td>\n",
       "    </tr>\n",
       "    <tr>\n",
       "      <th>Candidate_LinRegr</th>\n",
       "      <td>-13202.2</td>\n",
       "      <td>-10050.1</td>\n",
       "    </tr>\n",
       "    <tr>\n",
       "      <th>Candidate_Lasso</th>\n",
       "      <td>-13201.2</td>\n",
       "      <td>-10049.1</td>\n",
       "    </tr>\n",
       "    <tr>\n",
       "      <th>Assessor_DummyRegr</th>\n",
       "      <td>-11564.6</td>\n",
       "      <td>-9136.57</td>\n",
       "    </tr>\n",
       "    <tr>\n",
       "      <th>Assessor_RandForRegr</th>\n",
       "      <td>-9522.94</td>\n",
       "      <td>-7286.88</td>\n",
       "    </tr>\n",
       "    <tr>\n",
       "      <th>Assessor_LinRegr</th>\n",
       "      <td>-22444.8</td>\n",
       "      <td>-17659.9</td>\n",
       "    </tr>\n",
       "    <tr>\n",
       "      <th>Assessor_Lasso</th>\n",
       "      <td>-14388.6</td>\n",
       "      <td>-11938.3</td>\n",
       "    </tr>\n",
       "  </tbody>\n",
       "</table>\n",
       "</div>"
      ],
      "text/plain": [
       "                           MAE MAE_throw_worst\n",
       "Candidate_DummyRegr   -15010.5        -11657.9\n",
       "Candidate_RandForRegr -13375.8        -10242.7\n",
       "Candidate_LinRegr     -13202.2        -10050.1\n",
       "Candidate_Lasso       -13201.2        -10049.1\n",
       "Assessor_DummyRegr    -11564.6        -9136.57\n",
       "Assessor_RandForRegr  -9522.94        -7286.88\n",
       "Assessor_LinRegr      -22444.8        -17659.9\n",
       "Assessor_Lasso        -14388.6        -11938.3"
      ]
     },
     "execution_count": 231,
     "metadata": {},
     "output_type": "execute_result"
    }
   ],
   "source": [
    "all_scores"
   ]
  },
  {
   "cell_type": "code",
   "execution_count": 122,
   "metadata": {
    "collapsed": true
   },
   "outputs": [],
   "source": [
    "#clf = RandomForestRegressor(n_estimators=1000, n_jobs=7)"
   ]
  },
  {
   "cell_type": "code",
   "execution_count": 232,
   "metadata": {},
   "outputs": [
    {
     "data": {
      "text/plain": [
       "RandomForestRegressor(bootstrap=True, criterion='mse', max_depth=None,\n",
       "           max_features='auto', max_leaf_nodes=None,\n",
       "           min_impurity_split=1e-07, min_samples_leaf=1,\n",
       "           min_samples_split=2, min_weight_fraction_leaf=0.0,\n",
       "           n_estimators=1000, n_jobs=7, oob_score=False, random_state=None,\n",
       "           verbose=0, warm_start=False)"
      ]
     },
     "execution_count": 232,
     "metadata": {},
     "output_type": "execute_result"
    }
   ],
   "source": [
    "rfr.fit(X, y)"
   ]
  },
  {
   "cell_type": "code",
   "execution_count": 233,
   "metadata": {},
   "outputs": [
    {
     "data": {
      "text/html": [
       "<div>\n",
       "<style>\n",
       "    .dataframe thead tr:only-child th {\n",
       "        text-align: right;\n",
       "    }\n",
       "\n",
       "    .dataframe thead th {\n",
       "        text-align: left;\n",
       "    }\n",
       "\n",
       "    .dataframe tbody tr th {\n",
       "        vertical-align: top;\n",
       "    }\n",
       "</style>\n",
       "<table border=\"1\" class=\"dataframe\">\n",
       "  <thead>\n",
       "    <tr style=\"text-align: right;\">\n",
       "      <th></th>\n",
       "      <th>Importance</th>\n",
       "    </tr>\n",
       "  </thead>\n",
       "  <tbody>\n",
       "    <tr>\n",
       "      <th>job1PositionMatchChief</th>\n",
       "      <td>0.085196</td>\n",
       "    </tr>\n",
       "    <tr>\n",
       "      <th>experienceMonthTotal</th>\n",
       "      <td>0.079939</td>\n",
       "    </tr>\n",
       "    <tr>\n",
       "      <th>job1PositionMatchSales</th>\n",
       "      <td>0.075685</td>\n",
       "    </tr>\n",
       "    <tr>\n",
       "      <th>age</th>\n",
       "      <td>0.056806</td>\n",
       "    </tr>\n",
       "    <tr>\n",
       "      <th>jobDurationMedian</th>\n",
       "      <td>0.054247</td>\n",
       "    </tr>\n",
       "    <tr>\n",
       "      <th>job1DurationMonths</th>\n",
       "      <td>0.054142</td>\n",
       "    </tr>\n",
       "    <tr>\n",
       "      <th>job2DurationMonths</th>\n",
       "      <td>0.047068</td>\n",
       "    </tr>\n",
       "    <tr>\n",
       "      <th>unemployedNMonths</th>\n",
       "      <td>0.045288</td>\n",
       "    </tr>\n",
       "    <tr>\n",
       "      <th>town</th>\n",
       "      <td>0.043539</td>\n",
       "    </tr>\n",
       "    <tr>\n",
       "      <th>rating</th>\n",
       "      <td>0.039704</td>\n",
       "    </tr>\n",
       "    <tr>\n",
       "      <th>eduHigher1YearsSinceFinished</th>\n",
       "      <td>0.039270</td>\n",
       "    </tr>\n",
       "    <tr>\n",
       "      <th>age_count</th>\n",
       "      <td>0.038018</td>\n",
       "    </tr>\n",
       "    <tr>\n",
       "      <th>job1PositionMatchManager</th>\n",
       "      <td>0.033359</td>\n",
       "    </tr>\n",
       "    <tr>\n",
       "      <th>educationLevel</th>\n",
       "      <td>0.026499</td>\n",
       "    </tr>\n",
       "    <tr>\n",
       "      <th>extraEduCount</th>\n",
       "      <td>0.023032</td>\n",
       "    </tr>\n",
       "    <tr>\n",
       "      <th>prof_8</th>\n",
       "      <td>0.022190</td>\n",
       "    </tr>\n",
       "    <tr>\n",
       "      <th>readyToBusinessTrips2</th>\n",
       "      <td>0.015443</td>\n",
       "    </tr>\n",
       "    <tr>\n",
       "      <th>computerSkillsLevel</th>\n",
       "      <td>0.014873</td>\n",
       "    </tr>\n",
       "    <tr>\n",
       "      <th>gender</th>\n",
       "      <td>0.012848</td>\n",
       "    </tr>\n",
       "    <tr>\n",
       "      <th>bestLanguageLevel</th>\n",
       "      <td>0.012677</td>\n",
       "    </tr>\n",
       "    <tr>\n",
       "      <th>computerSkillsLevel_count</th>\n",
       "      <td>0.012228</td>\n",
       "    </tr>\n",
       "    <tr>\n",
       "      <th>knowsThatManyLanguages</th>\n",
       "      <td>0.011512</td>\n",
       "    </tr>\n",
       "    <tr>\n",
       "      <th>prof_7</th>\n",
       "      <td>0.011106</td>\n",
       "    </tr>\n",
       "    <tr>\n",
       "      <th>placeOfWork</th>\n",
       "      <td>0.010260</td>\n",
       "    </tr>\n",
       "  </tbody>\n",
       "</table>\n",
       "</div>"
      ],
      "text/plain": [
       "                              Importance\n",
       "job1PositionMatchChief          0.085196\n",
       "experienceMonthTotal            0.079939\n",
       "job1PositionMatchSales          0.075685\n",
       "age                             0.056806\n",
       "jobDurationMedian               0.054247\n",
       "job1DurationMonths              0.054142\n",
       "job2DurationMonths              0.047068\n",
       "unemployedNMonths               0.045288\n",
       "town                            0.043539\n",
       "rating                          0.039704\n",
       "eduHigher1YearsSinceFinished    0.039270\n",
       "age_count                       0.038018\n",
       "job1PositionMatchManager        0.033359\n",
       "educationLevel                  0.026499\n",
       "extraEduCount                   0.023032\n",
       "prof_8                          0.022190\n",
       "readyToBusinessTrips2           0.015443\n",
       "computerSkillsLevel             0.014873\n",
       "gender                          0.012848\n",
       "bestLanguageLevel               0.012677\n",
       "computerSkillsLevel_count       0.012228\n",
       "knowsThatManyLanguages          0.011512\n",
       "prof_7                          0.011106\n",
       "placeOfWork                     0.010260"
      ]
     },
     "execution_count": 233,
     "metadata": {},
     "output_type": "execute_result"
    }
   ],
   "source": [
    "feat_imp_pay = pd.DataFrame(rfr.feature_importances_, index=X.columns, columns=['Importance'])\n",
    "feat_imp_pay.sort_values('Importance', inplace=True, ascending=False)\n",
    "feat_imp_pay = feat_imp_pay[feat_imp_pay['Importance'] > 0.01]\n",
    "feat_imp_pay"
   ]
  },
  {
   "cell_type": "code",
   "execution_count": 234,
   "metadata": {},
   "outputs": [
    {
     "data": {
      "text/plain": [
       "RandomForestRegressor(bootstrap=True, criterion='mse', max_depth=None,\n",
       "           max_features='auto', max_leaf_nodes=None,\n",
       "           min_impurity_split=1e-07, min_samples_leaf=1,\n",
       "           min_samples_split=2, min_weight_fraction_leaf=0.0,\n",
       "           n_estimators=1000, n_jobs=7, oob_score=False, random_state=None,\n",
       "           verbose=0, warm_start=False)"
      ]
     },
     "execution_count": 234,
     "metadata": {},
     "output_type": "execute_result"
    }
   ],
   "source": [
    "rfr.fit(X_with_assesor, y_test)"
   ]
  },
  {
   "cell_type": "code",
   "execution_count": 235,
   "metadata": {},
   "outputs": [
    {
     "data": {
      "text/html": [
       "<div>\n",
       "<style>\n",
       "    .dataframe thead tr:only-child th {\n",
       "        text-align: right;\n",
       "    }\n",
       "\n",
       "    .dataframe thead th {\n",
       "        text-align: left;\n",
       "    }\n",
       "\n",
       "    .dataframe tbody tr th {\n",
       "        vertical-align: top;\n",
       "    }\n",
       "</style>\n",
       "<table border=\"1\" class=\"dataframe\">\n",
       "  <thead>\n",
       "    <tr style=\"text-align: right;\">\n",
       "      <th></th>\n",
       "      <th>Importance</th>\n",
       "    </tr>\n",
       "  </thead>\n",
       "  <tbody>\n",
       "    <tr>\n",
       "      <th>job1PositionMatchChief</th>\n",
       "      <td>0.167733</td>\n",
       "    </tr>\n",
       "    <tr>\n",
       "      <th>rating</th>\n",
       "      <td>0.125865</td>\n",
       "    </tr>\n",
       "    <tr>\n",
       "      <th>job1PositionMatchSales</th>\n",
       "      <td>0.080539</td>\n",
       "    </tr>\n",
       "    <tr>\n",
       "      <th>age_count</th>\n",
       "      <td>0.068185</td>\n",
       "    </tr>\n",
       "    <tr>\n",
       "      <th>eduHigher1YearsSinceFinished</th>\n",
       "      <td>0.067909</td>\n",
       "    </tr>\n",
       "    <tr>\n",
       "      <th>computerSkillsLevel_count</th>\n",
       "      <td>0.056291</td>\n",
       "    </tr>\n",
       "    <tr>\n",
       "      <th>computerSkillsLevel</th>\n",
       "      <td>0.053809</td>\n",
       "    </tr>\n",
       "    <tr>\n",
       "      <th>experienceMonthTotal</th>\n",
       "      <td>0.046858</td>\n",
       "    </tr>\n",
       "    <tr>\n",
       "      <th>job1DurationMonths</th>\n",
       "      <td>0.045778</td>\n",
       "    </tr>\n",
       "    <tr>\n",
       "      <th>job2DurationMonths</th>\n",
       "      <td>0.035165</td>\n",
       "    </tr>\n",
       "    <tr>\n",
       "      <th>job1PositionMatchManager</th>\n",
       "      <td>0.029643</td>\n",
       "    </tr>\n",
       "    <tr>\n",
       "      <th>jobDurationMedian</th>\n",
       "      <td>0.028093</td>\n",
       "    </tr>\n",
       "    <tr>\n",
       "      <th>age</th>\n",
       "      <td>0.021053</td>\n",
       "    </tr>\n",
       "    <tr>\n",
       "      <th>married_yes</th>\n",
       "      <td>0.020487</td>\n",
       "    </tr>\n",
       "    <tr>\n",
       "      <th>bestLanguageLevel</th>\n",
       "      <td>0.018877</td>\n",
       "    </tr>\n",
       "    <tr>\n",
       "      <th>unemployedNMonths</th>\n",
       "      <td>0.015768</td>\n",
       "    </tr>\n",
       "    <tr>\n",
       "      <th>extraEduCount</th>\n",
       "      <td>0.012330</td>\n",
       "    </tr>\n",
       "  </tbody>\n",
       "</table>\n",
       "</div>"
      ],
      "text/plain": [
       "                              Importance\n",
       "job1PositionMatchChief          0.167733\n",
       "rating                          0.125865\n",
       "job1PositionMatchSales          0.080539\n",
       "age_count                       0.068185\n",
       "eduHigher1YearsSinceFinished    0.067909\n",
       "computerSkillsLevel_count       0.056291\n",
       "computerSkillsLevel             0.053809\n",
       "experienceMonthTotal            0.046858\n",
       "job1DurationMonths              0.045778\n",
       "job2DurationMonths              0.035165\n",
       "job1PositionMatchManager        0.029643\n",
       "jobDurationMedian               0.028093\n",
       "age                             0.021053\n",
       "married_yes                     0.020487\n",
       "bestLanguageLevel               0.018877\n",
       "unemployedNMonths               0.015768\n",
       "extraEduCount                   0.012330"
      ]
     },
     "execution_count": 235,
     "metadata": {},
     "output_type": "execute_result"
    }
   ],
   "source": [
    "feat_imp_assessor = pd.DataFrame(rfr.feature_importances_, index=X_with_assesor.columns, columns=['Importance'])\n",
    "feat_imp_assessor.sort_values('Importance', inplace=True, ascending=False)\n",
    "feat_imp_assessor = feat_imp_assessor[feat_imp_assessor['Importance'] > 0.01]\n",
    "feat_imp_assessor"
   ]
  }
 ],
 "metadata": {
  "anaconda-cloud": {},
  "kernelspec": {
   "display_name": "Python 3",
   "language": "python",
   "name": "python3"
  },
  "language_info": {
   "codemirror_mode": {
    "name": "ipython",
    "version": 3
   },
   "file_extension": ".py",
   "mimetype": "text/x-python",
   "name": "python",
   "nbconvert_exporter": "python",
   "pygments_lexer": "ipython3",
   "version": "3.6.1"
  }
 },
 "nbformat": 4,
 "nbformat_minor": 2
}
